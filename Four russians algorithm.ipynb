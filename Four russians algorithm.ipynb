{
 "cells": [
  {
   "cell_type": "code",
   "execution_count": 30,
   "metadata": {},
   "outputs": [],
   "source": [
    "import random\n",
    "import math\n",
    "from itertools import product"
   ]
  },
  {
   "cell_type": "markdown",
   "metadata": {},
   "source": [
    "## Algorithm implemetation\n",
    "matrix_multiplication method realises multiplication operation for two boolean (filled with 0 or 1 only) matrices. four_russian_multiplication does the same operation, but it uses precomputed matrix k to reduce complexity by replacement multiplication operation with simple searching of precomputed value."
   ]
  },
  {
   "cell_type": "code",
   "execution_count": 34,
   "metadata": {},
   "outputs": [],
   "source": [
    "'''\n",
    "Generates square matrix of size n filled with zeros\n",
    "'''\n",
    "def make_empty_matrix(n):\n",
    "    return [[0 for i in range(n)] for j in range(n)]\n",
    "\n",
    "'''\n",
    "Generates random square matrix of size n filled with 1 and 0\n",
    "'''\n",
    "def make_random_matrix(n):\n",
    "    return [[random.choice([0,1]) for i in range(n)] for j in range(n)]\n",
    "\n",
    "'''\n",
    "Does multiplication modulo 2\n",
    "'''\n",
    "def mult(a, b):\n",
    "    return (a * b) % 2\n",
    "\n",
    "'''\n",
    "Sums up values in given array modulo 2\n",
    "'''\n",
    "def array_sum(array):\n",
    "    res = 0\n",
    "    \n",
    "    for el in array:\n",
    "        res += el\n",
    "        \n",
    "    return res % 2\n",
    "\n",
    "'''\n",
    "Gets scalar product for two given arrays\n",
    "'''\n",
    "def array_mult(a, b):\n",
    "    return array_sum([mult(a[i], b[i]) for i in range(len(a))])\n",
    "\n",
    "'''\n",
    "Realises matrix multiplication operation for given matrices\n",
    "'''\n",
    "def matrix_multiplication(A, B):\n",
    "    n = len(A)\n",
    "    res = make_empty_matrix(n)\n",
    "    \n",
    "    for row in range(n):\n",
    "        string = A[row]\n",
    "        \n",
    "        for col in range(n):\n",
    "            column = [B[i][col] for i in range(n)]\n",
    "            res[row][col] = array_mult(string, column)\n",
    "        \n",
    "    return res\n",
    "\n",
    "'''\n",
    "Splits given matrix rows into subrows of length k\n",
    "If needed, zero columns added to the end of the matrix to make k be divider for number of cols\n",
    "'''\n",
    "def split_matrix_into_subrows(M, k):\n",
    "    n = len(M)\n",
    "    add_cols = 0\n",
    "    res = []\n",
    "    \n",
    "    for r in range(n):\n",
    "        row = [tuple(M[r][col:col+k]) for col in range(0, n, k)]\n",
    "        last_len = len(row[-1])\n",
    "        \n",
    "        if add_cols:\n",
    "            row[-1] = row[-1] + tuple([0 for i in range(add_cols)])\n",
    "        \n",
    "        elif last_len < k:\n",
    "            add_cols = k - last_len\n",
    "            row[-1] = row[-1] + tuple([0 for i in range(add_cols)])\n",
    "        \n",
    "        res.append(row)\n",
    "    \n",
    "    return res\n",
    "\n",
    "'''\n",
    "Transposes given matrix\n",
    "'''\n",
    "def transpose(M):\n",
    "    rows = len(M)\n",
    "    cols = len(M[0])\n",
    "    return [[M[col][row] for col in range(rows)] for row in range(cols)]\n",
    "\n",
    "'''\n",
    "Realises four russians algorithm for matrices multiplication\n",
    "'''\n",
    "def four_russian_multiplication(A, B, k):\n",
    "    # Generate k_matrix\n",
    "    substrings = list(product([0, 1], repeat=k))\n",
    "    k_matrix = {}\n",
    "    \n",
    "    for row in substrings:\n",
    "        k_matrix[row] = {}\n",
    "        \n",
    "        for col in substrings:\n",
    "            k_matrix[row][col] = array_mult(row, col)\n",
    "    \n",
    "    # Generate A' and B' matrices\n",
    "    n = len(A)\n",
    "    A_splt = split_matrix_into_subrows(A, k)\n",
    "    B_splt = split_matrix_into_subrows(transpose(B), k)\n",
    "    \n",
    "    # Do multiplication with A', B'\n",
    "    res = make_empty_matrix(n)\n",
    "    \n",
    "    for r in range(n):\n",
    "        row = A_splt[r]\n",
    "        \n",
    "        for c in range(n):\n",
    "            column = B_splt[c]\n",
    "            res[r][c] = array_sum([k_matrix[row[i]][column[i]] for i in range(n // k)])\n",
    "            \n",
    "    return res"
   ]
  },
  {
   "cell_type": "markdown",
   "metadata": {},
   "source": [
    "## Simple test\n",
    "Let's test both methods on simple example from this page: https://neerc.ifmo.ru/wiki/index.php?title=%D0%9C%D0%B5%D1%82%D0%BE%D0%B4_%D1%87%D0%B5%D1%82%D1%8B%D1%80%D1%91%D1%85_%D1%80%D1%83%D1%81%D1%81%D0%BA%D0%B8%D1%85_%D0%B4%D0%BB%D1%8F_%D1%83%D0%BC%D0%BD%D0%BE%D0%B6%D0%B5%D0%BD%D0%B8%D1%8F_%D0%BC%D0%B0%D1%82%D1%80%D0%B8%D1%86"
   ]
  },
  {
   "cell_type": "code",
   "execution_count": 37,
   "metadata": {},
   "outputs": [
    {
     "name": "stdout",
     "output_type": "stream",
     "text": [
      "Standart algorithm result:\n",
      "[1, 1, 0, 0]\n",
      "[0, 0, 1, 1]\n",
      "[1, 1, 1, 1]\n",
      "[1, 1, 0, 0]\n",
      "\n",
      "Four russians algorithm result:\n",
      "[1, 1, 0, 0]\n",
      "[0, 0, 1, 1]\n",
      "[1, 1, 1, 1]\n",
      "[1, 1, 0, 0]\n"
     ]
    }
   ],
   "source": [
    "A = [\n",
    "    [0, 1, 1, 1],\n",
    "    [0, 1, 0, 0],\n",
    "    [1, 1, 0, 1],\n",
    "    [1, 0, 0, 1]\n",
    "]\n",
    "B = [\n",
    "    [1, 0, 0, 1],\n",
    "    [0, 0, 1, 1],\n",
    "    [1, 0, 1, 0],\n",
    "    [0, 1, 0, 1]\n",
    "]\n",
    "\n",
    "C_st = matrix_multiplication(A, B)\n",
    "C_fr = four_russian_multiplication(A, B, 2)\n",
    "\n",
    "print('Standart algorithm result:')\n",
    "for row in C_st: \n",
    "    print(row)\n",
    "\n",
    "print('\\nFour russians algorithm result:')\n",
    "for row in C_fr: \n",
    "    print(row)"
   ]
  },
  {
   "cell_type": "markdown",
   "metadata": {},
   "source": [
    "## Algorithms comparison\n",
    "Below some time tests for realised algorithms provided"
   ]
  },
  {
   "cell_type": "code",
   "execution_count": 40,
   "metadata": {},
   "outputs": [
    {
     "name": "stdout",
     "output_type": "stream",
     "text": [
      "size 100 is ready...\n",
      "size 200 is ready...\n",
      "size 300 is ready...\n",
      "size 400 is ready...\n",
      "size 500 is ready...\n",
      "size 600 is ready...\n",
      "size 700 is ready...\n",
      "size 800 is ready...\n",
      "size 900 is ready...\n"
     ]
    }
   ],
   "source": [
    "import time\n",
    "\n",
    "standart_times = []\n",
    "fr_times = []\n",
    "\n",
    "for n in range(100, 1000, 100):\n",
    "    A, B = (make_random_matrix(n) for i in range(2))\n",
    "    k = round(math.log(n))\n",
    "    \n",
    "    st_start = time.time()\n",
    "    res = matrix_multiplication(A, B)\n",
    "    st_finish = time.time()\n",
    "    standart_times.append(st_finish - st_start)\n",
    "    \n",
    "    fr_start = time.time()\n",
    "    res = four_russian_multiplication(A, B, k)\n",
    "    fr_finish = time.time()\n",
    "    fr_times.append(fr_finish - fr_start)\n",
    "    \n",
    "    print(f'size {n} is ready...')"
   ]
  },
  {
   "cell_type": "code",
   "execution_count": 45,
   "metadata": {},
   "outputs": [
    {
     "data": {
      "image/png": "[encoded data removed]",
      "text/plain": [
       "<Figure size 576x288 with 1 Axes>"
      ]
     },
     "metadata": {
      "needs_background": "light"
     },
     "output_type": "display_data"
    }
   ],
   "source": [
    "import matplotlib.pyplot as plt\n",
    "\n",
    "fig, ax = plt.subplots(figsize=(8, 4))\n",
    "\n",
    "x = [x for x in range(100, 1000, 100)]\n",
    "ax.plot(x, standart_times, label='standart')\n",
    "ax.plot(x, fr_times, label='four russians')\n",
    "\n",
    "ax.set_xlabel('Размер матрицы')\n",
    "ax.set_ylabel('Время выполнения (в секундах)')\n",
    "ax.set_title('График зависимости времени от размера матрицы')\n",
    "ax.legend()\n",
    "\n",
    "plt.show()"
   ]
  }
 ],
 "metadata": {
  "kernelspec": {
   "display_name": "Python 3",
   "language": "python",
   "name": "python3"
  },
  "language_info": {
   "codemirror_mode": {
    "name": "ipython",
    "version": 3
   },
   "file_extension": ".py",
   "mimetype": "text/x-python",
   "name": "python",
   "nbconvert_exporter": "python",
   "pygments_lexer": "ipython3",
   "version": "3.7.1"
  }
 },
 "nbformat": 4,
 "nbformat_minor": 4
}
